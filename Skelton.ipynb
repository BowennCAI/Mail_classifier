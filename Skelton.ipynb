{
 "cells": [
  {
   "cell_type": "code",
   "execution_count": 10,
   "metadata": {
    "collapsed": true,
    "pycharm": {
     "is_executing": false
    }
   },
   "outputs": [],
   "source": [
    "\"\"\"\n",
    "This script can be used as skelton code to read the challenge train and test\n",
    "csvs, to train a trivial model, and write data to the submission file.\n",
    "\"\"\"\n",
    "import pandas as pd\n",
    "import numpy as np\n",
    "from sklearn.preprocessing import OneHotEncoder\n",
    "from sklearn.neighbors import KNeighborsClassifier\n",
    "from sklearn.svm import LinearSVC\n",
    "from sklearn.neural_network import MLPClassifier\n",
    "from sklearn.ensemble import RandomForestClassifier\n",
    "from sklearn.ensemble import GradientBoostingClassifier\n",
    "import seaborn as sns\n",
    "from sklearn.model_selection import GridSearchCV\n",
    "from sklearn.model_selection import cross_val_predict"
   ]
  },
  {
   "cell_type": "code",
   "execution_count": 2,
   "outputs": [],
   "source": [
    "from sklearn.metrics import accuracy_score\n",
    "\n",
    "## Read csvs\n",
    "train_df = pd.read_csv('train.csv', index_col=0)\n",
    "test_df = pd.read_csv('test.csv', index_col=0)"
   ],
   "metadata": {
    "collapsed": false,
    "pycharm": {
     "name": "#%%\n",
     "is_executing": false
    }
   }
  },
  {
   "cell_type": "code",
   "execution_count": 3,
   "outputs": [],
   "source": [
    "## Handle missing values\n",
    "train_df.fillna('NA', inplace=True)\n",
    "test_df.fillna('NA', inplace=True)"
   ],
   "metadata": {
    "collapsed": false,
    "pycharm": {
     "name": "#%%\n",
     "is_executing": false
    }
   }
  },
  {
   "cell_type": "code",
   "execution_count": 4,
   "outputs": [],
   "source": [
    "## Filtering column \"mail_type\"\n",
    "train_x = train_df[['org','tld','mail_type']]\n",
    "train_y = train_df[['label']]\n",
    "\n",
    "test_x = test_df[['org','tld','mail_type']]\n",
    "\n",
    "#sns.distplot(int(train_df['mail_type']), kde=False)\n"
   ],
   "metadata": {
    "collapsed": false,
    "pycharm": {
     "name": "#%%\n",
     "is_executing": false
    }
   }
  },
  {
   "cell_type": "code",
   "execution_count": 5,
   "outputs": [
    {
     "name": "stdout",
     "text": [
      "10745\n",
      "[9.83844148e-01 1.14345575e-02 4.60218639e-03 1.08486910e-04\n",
      " 9.52668873e-06 9.32368512e-07 1.62504060e-07 6.52661555e-16]\n",
      "[[ 1.00430849e+00  9.01661897e+00  2.54263278e+00 -5.78249599e-03\n",
      "   1.01436879e-01]\n",
      " [ 1.00329378e+00 -1.28032529e+00  1.47954552e+00  1.72461679e-02\n",
      "  -6.50377730e-02]\n",
      " [ 9.97216738e-01 -8.43302024e-01 -2.75785387e+00 -1.68705528e-02\n",
      "  -4.87539980e-02]\n",
      " ...\n",
      " [ 1.00329573e+00 -1.28026680e+00  1.47969462e+00  1.78300917e-02\n",
      "  -3.88827259e-02]\n",
      " [ 1.00329310e+00 -1.28036221e+00  1.47949041e+00  1.69896449e-02\n",
      "  -7.46349278e-02]\n",
      " [ 9.97234820e-01 -8.42722549e-01 -2.75528602e+00  8.70769210e-02\n",
      "   1.27733146e-01]]\n",
      "10745\n"
     ],
     "output_type": "stream"
    }
   ],
   "source": [
    "## PCA\n",
    "data_train = np.array(train_df.iloc[:, [3,4,6,7,8,9,10,11]])\n",
    "data_test = np.array(test_df.iloc[:, [3,4,6,7,8,9,10,11]])\n",
    "print(len(data_test))\n",
    "data = np.vstack((data_train, data_test))#0:10744是test\n",
    "\n",
    "M = np.mean(data, 0) # compute the mean\n",
    "Var = np.var(data,0)\n",
    "# C = data-M\n",
    "C = (data - M)*1/Var\n",
    "W = np.dot(C.T, C) # compute covariance matrix\n",
    "eigval, eigvec = np.linalg.eig(W) # compute eigenvalues and eigenvectors of covariance matrix\n",
    "idx = eigval.argsort()[::-1] # Sort eigenvalues\n",
    "eigvec = eigvec[:,idx] # Sort eigenvectors according to eigenvalues\n",
    "print(eigval/sum(eigval))\n",
    "newData2 = np.dot(C,np.real(eigvec[:,:2])) # Project the data to the new space (2-D)\n",
    "newData3 = np.dot(C,np.real(eigvec[:,:5])) # Project the data to the new space (3-D)\n",
    "\n",
    "newData2_train = newData2[0:25066]\n",
    "newData2_test = newData2[25066:35811]\n",
    "\n",
    "newData3_train = newData3[0:25066]\n",
    "newData3_test = newData3[25066:35811]\n",
    "\n",
    "\n",
    "print(newData3_train)\n",
    "len(newData2_train)\n",
    "print(len(newData3_test))\n",
    "# newData3 = np.dot(C,np.real(eigvec[:,:3])) # Project the data to the new space (3-D)\n",
    "\n",
    "\n"
   ],
   "metadata": {
    "collapsed": false,
    "pycharm": {
     "name": "#%%\n",
     "is_executing": false
    }
   }
  },
  {
   "cell_type": "code",
   "execution_count": 6,
   "outputs": [
    {
     "name": "stdout",
     "text": [
      "[[ 0.99720253 -0.84360155 -2.76244782 ... -1.02124565 -1.14952011\n",
      "  -1.03207678]\n",
      " [ 1.00329327 -1.28033182  1.47950269 ... -1.02124565 -1.14952011\n",
      "  -1.03207678]\n",
      " [ 0.99722231 -0.84320977 -2.75626607 ... -1.02124565 -1.14952011\n",
      "  -1.03207678]\n",
      " ...\n",
      " [ 1.00330611 -1.27992041  1.48049883 ... -1.02124565  7.68806355\n",
      "  -1.03207678]\n",
      " [ 1.00329573 -1.28026791  1.47969443 ... -1.02124565 -1.14952011\n",
      "  -1.03207678]\n",
      " [ 0.99722169 -0.84320448 -2.75630833 ... -1.02124565  7.68806355\n",
      "  -1.03207678]]\n"
     ],
     "output_type": "stream"
    },
    {
     "data": {
      "text/plain": "numpy.ndarray"
     },
     "metadata": {},
     "output_type": "execute_result",
     "execution_count": 6
    }
   ],
   "source": [
    "## Do one hot encoding of categorical feature\n",
    "feat_enc = OneHotEncoder()\n",
    "feat_enc.fit(np.vstack((train_x, test_x)))\n",
    "train_x_featurized = feat_enc.transform(train_x)\n",
    "test_x_featurized = feat_enc.transform(test_x)\n",
    "\n",
    "train_type_array = train_x_featurized.A\n",
    "test_type_array = test_x_featurized.A\n",
    "\n",
    "data_type = np.vstack((train_type_array, test_type_array))\n",
    "\n",
    "M0 = np.mean(data_type, 0) # compute the mean\n",
    "Var0 = np.var(data_type,0)\n",
    "C0 = (data_type - M0)*1/Var0\n",
    "\n",
    "train_type_array = C0[0:25066]\n",
    "test_type_array = C0[25066:35811]\n",
    "\n",
    "\n",
    "newData3_train_fin = np.hstack((newData3_train, train_type_array))\n",
    "newData3_test_fin = np.hstack((newData3_test, test_type_array))\n",
    "print(newData3_test_fin)\n",
    "newData3_train_fin\n",
    "type(test_type_array)\n",
    "#type(train_type_array = train_x_featurized.A)"
   ],
   "metadata": {
    "collapsed": false,
    "pycharm": {
     "name": "#%%\n",
     "is_executing": false
    }
   }
  },
  {
   "cell_type": "code",
   "execution_count": 32,
   "outputs": [
    {
     "name": "stderr",
     "text": [
      "/usr/local/lib/python3.7/site-packages/ipykernel_launcher.py:3: DataConversionWarning: A column-vector y was passed when a 1d array was expected. Please change the shape of y to (n_samples, ), for example using ravel().\n",
      "  This is separate from the ipykernel package so we can avoid doing imports until\n"
     ],
     "output_type": "stream"
    }
   ],
   "source": [
    "## Train a simple KNN classifier using featurized data\n",
    "neigh = KNeighborsClassifier(n_neighbors=150)\n",
    "neigh.fit(newData3_train, train_y)\n",
    "pred_y = neigh.predict(newData3_test)\n",
    "\n",
    "pred_df = pd.DataFrame(pred_y, columns=['label'])\n",
    "pred_df.to_csv(\"knn_submission.csv\", index=True, index_label='Id')\n"
   ],
   "metadata": {
    "collapsed": false,
    "pycharm": {
     "name": "#%%\n",
     "is_executing": false
    }
   }
  },
  {
   "cell_type": "code",
   "execution_count": 33,
   "outputs": [
    {
     "name": "stderr",
     "text": [
      "/usr/local/lib/python3.7/site-packages/sklearn/utils/validation.py:744: DataConversionWarning: A column-vector y was passed when a 1d array was expected. Please change the shape of y to (n_samples, ), for example using ravel().\n",
      "  y = column_or_1d(y, warn=True)\n",
      "/usr/local/lib/python3.7/site-packages/sklearn/svm/_base.py:947: ConvergenceWarning: Liblinear failed to converge, increase the number of iterations.\n",
      "  \"the number of iterations.\", ConvergenceWarning)\n"
     ],
     "output_type": "stream"
    }
   ],
   "source": [
    "##Train a SVM classifier\n",
    "clf = LinearSVC(random_state=0, tol=1e-5)\n",
    "clf.fit(newData2_train, train_y)\n",
    "pred_y = clf.predict(newData2_test)\n",
    "\n",
    "pred_df = pd.DataFrame(pred_y, columns=['label'])\n",
    "pred_df.to_csv(\"svm_submission.csv\", index=True, index_label='Id')\n"
   ],
   "metadata": {
    "collapsed": false,
    "pycharm": {
     "name": "#%%\n",
     "is_executing": false
    }
   }
  },
  {
   "cell_type": "code",
   "execution_count": 12,
   "outputs": [
    {
     "name": "stderr",
     "text": [
      "/usr/local/lib/python3.7/site-packages/sklearn/neural_network/_multilayer_perceptron.py:934: DataConversionWarning: A column-vector y was passed when a 1d array was expected. Please change the shape of y to (n_samples, ), for example using ravel().\n",
      "  y = column_or_1d(y, warn=True)\n"
     ],
     "output_type": "stream"
    }
   ],
   "source": [
    "##Train a NNC classifier\n",
    "clf = MLPClassifier(batch_size=80)\n",
    "clf.fit(newData3_train_fin, train_y)\n",
    "\n",
    "pred_y = clf.predict(newData3_test_fin)\n",
    "\n",
    "pred_df = pd.DataFrame(pred_y, columns=['label'])\n",
    "pred_df.to_csv(\"nn_submission.csv\", index=True, index_label='Id')\n"
   ],
   "metadata": {
    "collapsed": false,
    "pycharm": {
     "name": "#%%\n",
     "is_executing": false
    }
   }
  },
  {
   "cell_type": "code",
   "execution_count": 9,
   "outputs": [
    {
     "name": "stderr",
     "text": [
      "/usr/local/lib/python3.7/site-packages/ipykernel_launcher.py:2: DataConversionWarning: A column-vector y was passed when a 1d array was expected. Please change the shape of y to (n_samples,), for example using ravel().\n",
      "  \n"
     ],
     "output_type": "stream"
    }
   ],
   "source": [
    "clf_rdf = RandomForestClassifier()\n",
    "clf_rdf.fit(newData3_train_fin,train_y)\n",
    "\n",
    "pred_y = clf_rdf.predict(newData3_test_fin)\n",
    "\n",
    "pred_df = pd.DataFrame(pred_y, columns=['label'])\n",
    "pred_df.to_csv(\"rdf_submission.csv\", index=True, index_label='Id')"
   ],
   "metadata": {
    "collapsed": false,
    "pycharm": {
     "name": "#%%\n",
     "is_executing": false
    }
   }
  },
  {
   "cell_type": "code",
   "execution_count": null,
   "outputs": [],
   "source": [
    "clf_GB = GradientBoostingClassifier()\n",
    "clf_GB.fit(newData3_train_fin,train_y)\n",
    "\n",
    "pred_y = clf_GB.predict(newData3_test_fin)\n",
    "\n",
    "pred_df = pd.DataFrame(pred_y, columns=['label'])\n",
    "pred_df.to_csv(\"GB_submission.csv\", index=True, index_label='Id')\n"
   ],
   "metadata": {
    "collapsed": false,
    "pycharm": {
     "name": "#%%\n",
     "is_executing": true
    }
   }
  },
  {
   "cell_type": "code",
   "execution_count": 10,
   "outputs": [
    {
     "name": "stderr",
     "text": [
      "/usr/local/lib/python3.7/site-packages/sklearn/neural_network/_multilayer_perceptron.py:934: DataConversionWarning: A column-vector y was passed when a 1d array was expected. Please change the shape of y to (n_samples, ), for example using ravel().\n",
      "  y = column_or_1d(y, warn=True)\n"
     ],
     "output_type": "stream"
    },
    {
     "name": "stdout",
     "text": [
      "Best: 0.901620 using {'batch_size': 80}\n"
     ],
     "output_type": "stream"
    },
    {
     "traceback": [
      "\u001b[0;31m---------------------------------------------------------------------------\u001b[0m",
      "\u001b[0;31mAttributeError\u001b[0m                            Traceback (most recent call last)",
      "\u001b[0;32m<ipython-input-10-24c7cfda6aff>\u001b[0m in \u001b[0;36m<module>\u001b[0;34m\u001b[0m\n\u001b[1;32m     11\u001b[0m \u001b[0mprint\u001b[0m\u001b[0;34m(\u001b[0m\u001b[0;34m\"Best: %f using %s\"\u001b[0m \u001b[0;34m%\u001b[0m \u001b[0;34m(\u001b[0m\u001b[0mgrid_result\u001b[0m\u001b[0;34m.\u001b[0m\u001b[0mbest_score_\u001b[0m\u001b[0;34m,\u001b[0m \u001b[0mgrid_result\u001b[0m\u001b[0;34m.\u001b[0m\u001b[0mbest_params_\u001b[0m\u001b[0;34m)\u001b[0m\u001b[0;34m)\u001b[0m\u001b[0;34m\u001b[0m\u001b[0;34m\u001b[0m\u001b[0m\n\u001b[1;32m     12\u001b[0m \u001b[0;34m\u001b[0m\u001b[0m\n\u001b[0;32m---> 13\u001b[0;31m \u001b[0;32mfor\u001b[0m \u001b[0mparams\u001b[0m\u001b[0;34m,\u001b[0m \u001b[0mmean_score\u001b[0m\u001b[0;34m,\u001b[0m \u001b[0mscores\u001b[0m \u001b[0;32min\u001b[0m \u001b[0mgrid_result\u001b[0m\u001b[0;34m.\u001b[0m\u001b[0mgrid_scores_\u001b[0m\u001b[0;34m:\u001b[0m\u001b[0;34m\u001b[0m\u001b[0;34m\u001b[0m\u001b[0m\n\u001b[0m\u001b[1;32m     14\u001b[0m \u001b[0;34m\u001b[0m\u001b[0m\n\u001b[1;32m     15\u001b[0m     \u001b[0mprint\u001b[0m\u001b[0;34m(\u001b[0m\u001b[0;34m\"%f (%f) with: %r\"\u001b[0m \u001b[0;34m%\u001b[0m \u001b[0;34m(\u001b[0m\u001b[0mscores\u001b[0m\u001b[0;34m.\u001b[0m\u001b[0mmean\u001b[0m\u001b[0;34m(\u001b[0m\u001b[0;34m)\u001b[0m\u001b[0;34m,\u001b[0m \u001b[0mscores\u001b[0m\u001b[0;34m.\u001b[0m\u001b[0mstd\u001b[0m\u001b[0;34m(\u001b[0m\u001b[0;34m)\u001b[0m\u001b[0;34m,\u001b[0m \u001b[0mparams\u001b[0m\u001b[0;34m)\u001b[0m\u001b[0;34m)\u001b[0m\u001b[0;34m\u001b[0m\u001b[0;34m\u001b[0m\u001b[0m\n",
      "\u001b[0;31mAttributeError\u001b[0m: 'GridSearchCV' object has no attribute 'grid_scores_'"
     ],
     "ename": "AttributeError",
     "evalue": "'GridSearchCV' object has no attribute 'grid_scores_'",
     "output_type": "error"
    }
   ],
   "source": [
    "batch_size = [10, 20, 40, 60, 80, 100, 120, 140] \n",
    "epochs = [10, 50, 100, 150, 200] \n",
    "param_grid = dict(batch_size=batch_size) \n",
    "\n",
    "grid = GridSearchCV(estimator=clf, param_grid=param_grid, n_jobs=-1) \n",
    "\n",
    "grid_result = grid.fit(newData3_train_fin, train_y) \n",
    "\n",
    "# summarize results \n",
    "\n",
    "print(\"Best: %f using %s\" % (grid_result.best_score_, grid_result.best_params_)) \n",
    "\n",
    "for params, mean_score, scores in grid_result.grid_scores_: \n",
    "\n",
    "    print(\"%f (%f) with: %r\" % (scores.mean(), scores.std(), params))\n",
    "\n",
    "pred_y = grid_result.predict(newData3_test_fin)\n",
    "\n",
    "pred_df = pd.DataFrame(pred_y, columns=['label'])\n",
    "pred_df.to_csv(\"nn_GS_submission.csv\", index=True, index_label='Id')"
   ],
   "metadata": {
    "collapsed": false,
    "pycharm": {
     "name": "#%%\n",
     "is_executing": false
    }
   }
  },
  {
   "cell_type": "code",
   "execution_count": 20,
   "outputs": [],
   "source": [
    "## Save results to submission file\n",
    "pred_df = pd.DataFrame(pred_y, columns=['label'])\n",
    "pred_df.to_csv(\"knn_sample_submission.csv\", index=True, index_label='Id')\n"
   ],
   "metadata": {
    "collapsed": false,
    "pycharm": {
     "name": "#%%\n",
     "is_executing": false
    }
   }
  }
 ],
 "metadata": {
  "kernelspec": {
   "display_name": "Python 3",
   "language": "python",
   "name": "python3"
  },
  "language_info": {
   "codemirror_mode": {
    "name": "ipython",
    "version": 2
   },
   "file_extension": ".py",
   "mimetype": "text/x-python",
   "name": "python",
   "nbconvert_exporter": "python",
   "pygments_lexer": "ipython2",
   "version": "2.7.6"
  },
  "pycharm": {
   "stem_cell": {
    "cell_type": "raw",
    "source": [],
    "metadata": {
     "collapsed": false
    }
   }
  }
 },
 "nbformat": 4,
 "nbformat_minor": 0
}