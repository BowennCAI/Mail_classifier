{
 "cells": [
  {
   "cell_type": "code",
   "execution_count": 15,
   "metadata": {
    "collapsed": true,
    "pycharm": {
     "is_executing": false
    }
   },
   "outputs": [],
   "source": [
    "\"\"\"\n",
    "This script can be used as skelton code to read the challenge train and test\n",
    "csvs, to train a trivial model, and write data to the submission file.\n",
    "\"\"\"\n",
    "import pandas as pd\n",
    "import numpy as np\n",
    "from sklearn.preprocessing import OneHotEncoder\n",
    "from sklearn.neighbors import KNeighborsClassifier\n",
    "from sklearn.svm import LinearSVC\n",
    "from sklearn.neural_network import MLPClassifier"
   ]
  },
  {
   "cell_type": "code",
   "execution_count": 2,
   "outputs": [],
   "source": [
    "from sklearn.metrics import accuracy_score\n",
    "\n",
    "## Read csvs\n",
    "train_df = pd.read_csv('train.csv', index_col=0)\n",
    "test_df = pd.read_csv('test.csv', index_col=0)"
   ],
   "metadata": {
    "collapsed": false,
    "pycharm": {
     "name": "#%%\n",
     "is_executing": false
    }
   }
  },
  {
   "cell_type": "code",
   "execution_count": 3,
   "outputs": [],
   "source": [
    "## Handle missing values\n",
    "train_df.fillna('NA', inplace=True)\n",
    "test_df.fillna('NA', inplace=True)"
   ],
   "metadata": {
    "collapsed": false,
    "pycharm": {
     "name": "#%%\n",
     "is_executing": false
    }
   }
  },
  {
   "cell_type": "code",
   "execution_count": 4,
   "outputs": [
    {
     "name": "stdout",
     "text": [
      "                   mail_type\n",
      "Id                          \n",
      "0      multipart/alternative\n",
      "1      multipart/alternative\n",
      "2      multipart/alternative\n",
      "3                  text/html\n",
      "4      multipart/alternative\n",
      "...                      ...\n",
      "10740  multipart/alternative\n",
      "10741  multipart/alternative\n",
      "10742              text/html\n",
      "10743  multipart/alternative\n",
      "10744              text/html\n",
      "\n",
      "[10745 rows x 1 columns]\n"
     ],
     "output_type": "stream"
    }
   ],
   "source": [
    "## Filtering column \"mail_type\"\n",
    "train_x = train_df[['mail_type']]\n",
    "train_y = train_df[['label']]\n",
    "\n",
    "test_x = test_df[['mail_type']]\n",
    "\n",
    "print(test_x)\n"
   ],
   "metadata": {
    "collapsed": false,
    "pycharm": {
     "name": "#%%\n",
     "is_executing": false
    }
   }
  },
  {
   "cell_type": "code",
   "execution_count": 30,
   "outputs": [
    {
     "name": "stdout",
     "text": [
      "10745\n",
      "[9.83844148e-01 1.14345575e-02 4.60218639e-03 1.08486910e-04\n",
      " 9.52668873e-06 9.32368512e-07 1.62504060e-07 6.52661555e-16]\n",
      "[[ 1.00430849e+00  9.01661897e+00  2.54263278e+00 -5.78249599e-03\n",
      "   1.01436879e-01]\n",
      " [ 1.00329378e+00 -1.28032529e+00  1.47954552e+00  1.72461679e-02\n",
      "  -6.50377730e-02]\n",
      " [ 9.97216738e-01 -8.43302024e-01 -2.75785387e+00 -1.68705528e-02\n",
      "  -4.87539980e-02]\n",
      " ...\n",
      " [ 1.00329573e+00 -1.28026680e+00  1.47969462e+00  1.78300917e-02\n",
      "  -3.88827259e-02]\n",
      " [ 1.00329310e+00 -1.28036221e+00  1.47949041e+00  1.69896449e-02\n",
      "  -7.46349278e-02]\n",
      " [ 9.97234820e-01 -8.42722549e-01 -2.75528602e+00  8.70769210e-02\n",
      "   1.27733146e-01]]\n",
      "10745\n"
     ],
     "output_type": "stream"
    }
   ],
   "source": [
    "## PCA\n",
    "data_train = np.array(train_df.iloc[:, [3,4,6,7,8,9,10,11]])\n",
    "data_test = np.array(test_df.iloc[:, [3,4,6,7,8,9,10,11]])\n",
    "print(len(data_test))\n",
    "data = np.vstack((data_train, data_test))#0:10744是test\n",
    "\n",
    "M = np.mean(data, 0) # compute the mean\n",
    "Var = np.var(data,0)\n",
    "# C = data-M\n",
    "C = (data - M)*1/Var\n",
    "W = np.dot(C.T, C) # compute covariance matrix\n",
    "eigval, eigvec = np.linalg.eig(W) # compute eigenvalues and eigenvectors of covariance matrix\n",
    "idx = eigval.argsort()[::-1] # Sort eigenvalues\n",
    "eigvec = eigvec[:,idx] # Sort eigenvectors according to eigenvalues\n",
    "print(eigval/sum(eigval))\n",
    "newData2 = np.dot(C,np.real(eigvec[:,:2])) # Project the data to the new space (2-D)\n",
    "newData3 = np.dot(C,np.real(eigvec[:,:5])) # Project the data to the new space (3-D)\n",
    "\n",
    "newData2_train = newData2[0:25066]\n",
    "newData2_test = newData2[25066:35811]\n",
    "\n",
    "newData3_train = newData3[0:25066]\n",
    "newData3_test = newData3[25066:35811]\n",
    "\n",
    "\n",
    "print(newData3_train)\n",
    "len(newData2_train)\n",
    "print(len(newData3_test))\n",
    "# newData3 = np.dot(C,np.real(eigvec[:,:3])) # Project the data to the new space (3-D)"
   ],
   "metadata": {
    "collapsed": false,
    "pycharm": {
     "name": "#%%\n",
     "is_executing": false
    }
   }
  },
  {
   "cell_type": "code",
   "execution_count": null,
   "outputs": [],
   "source": [],
   "metadata": {
    "collapsed": false,
    "pycharm": {
     "name": "#%%\n"
    }
   }
  },
  {
   "cell_type": "code",
   "execution_count": 77,
   "outputs": [],
   "source": [
    "## Do one hot encoding of categorical feature\n",
    "feat_enc = OneHotEncoder()\n",
    "feat_enc.fit(train_x)\n",
    "train_x_featurized = feat_enc.transform(train_x)\n",
    "test_x_featurized = feat_enc.transform(test_x)\n",
    "\n",
    "# print(test_x_featurized.data)\n",
    "# data = np.array(train_df['images'])\n",
    "# print(type(data))\n",
    "# train_X = np.hstack((train_x_featurized.data, data))\n",
    "# print(train_X)\n",
    "train_X = train_df[['images']]\n",
    "test_X = test_df[['images']]\n"
   ],
   "metadata": {
    "collapsed": false,
    "pycharm": {
     "name": "#%%\n",
     "is_executing": false
    }
   }
  },
  {
   "cell_type": "code",
   "execution_count": 11,
   "outputs": [
    {
     "name": "stderr",
     "text": [
      "/usr/local/lib/python3.7/site-packages/ipykernel_launcher.py:3: DataConversionWarning: A column-vector y was passed when a 1d array was expected. Please change the shape of y to (n_samples, ), for example using ravel().\n",
      "  This is separate from the ipykernel package so we can avoid doing imports until\n"
     ],
     "output_type": "stream"
    }
   ],
   "source": [
    "## Train a simple KNN classifier using featurized data\n",
    "neigh = KNeighborsClassifier(n_neighbors=3)\n",
    "neigh.fit(newData3_train, train_y)\n",
    "pred_y = neigh.predict(newData3_test)"
   ],
   "metadata": {
    "collapsed": false,
    "pycharm": {
     "name": "#%%\n",
     "is_executing": false
    }
   }
  },
  {
   "cell_type": "code",
   "execution_count": 9,
   "outputs": [
    {
     "name": "stderr",
     "text": [
      "/usr/local/lib/python3.7/site-packages/sklearn/utils/validation.py:744: DataConversionWarning: A column-vector y was passed when a 1d array was expected. Please change the shape of y to (n_samples, ), for example using ravel().\n",
      "  y = column_or_1d(y, warn=True)\n",
      "/usr/local/lib/python3.7/site-packages/sklearn/svm/_base.py:947: ConvergenceWarning: Liblinear failed to converge, increase the number of iterations.\n",
      "  \"the number of iterations.\", ConvergenceWarning)\n"
     ],
     "output_type": "stream"
    }
   ],
   "source": [
    "##Train a SVM classifier\n",
    "clf = LinearSVC(random_state=0, tol=1e-5)\n",
    "clf.fit(newData2_train, train_y)\n",
    "pred_y = clf.predict(newData2_test)\n"
   ],
   "metadata": {
    "collapsed": false,
    "pycharm": {
     "name": "#%%\n",
     "is_executing": false
    }
   }
  },
  {
   "cell_type": "code",
   "execution_count": 32,
   "outputs": [
    {
     "name": "stderr",
     "text": [
      "/usr/local/lib/python3.7/site-packages/sklearn/neural_network/_multilayer_perceptron.py:934: DataConversionWarning: A column-vector y was passed when a 1d array was expected. Please change the shape of y to (n_samples, ), for example using ravel().\n",
      "  y = column_or_1d(y, warn=True)\n"
     ],
     "output_type": "stream"
    }
   ],
   "source": [
    "##Train a NNC classifier\n",
    "clf = MLPClassifier()\n",
    "clf.fit(newData3_train, train_y)\n",
    "pred_y = clf.predict(newData3_test)"
   ],
   "metadata": {
    "collapsed": false,
    "pycharm": {
     "name": "#%%\n",
     "is_executing": false
    }
   }
  },
  {
   "cell_type": "code",
   "execution_count": 33,
   "outputs": [],
   "source": [
    "## Save results to submission file\n",
    "pred_df = pd.DataFrame(pred_y, columns=['label'])\n",
    "pred_df.to_csv(\"knn_sample_submission.csv\", index=True, index_label='Id')\n",
    "\n"
   ],
   "metadata": {
    "collapsed": false,
    "pycharm": {
     "name": "#%%\n",
     "is_executing": false
    }
   }
  }
 ],
 "metadata": {
  "kernelspec": {
   "display_name": "Python 3",
   "language": "python",
   "name": "python3"
  },
  "language_info": {
   "codemirror_mode": {
    "name": "ipython",
    "version": 2
   },
   "file_extension": ".py",
   "mimetype": "text/x-python",
   "name": "python",
   "nbconvert_exporter": "python",
   "pygments_lexer": "ipython2",
   "version": "2.7.6"
  },
  "pycharm": {
   "stem_cell": {
    "cell_type": "raw",
    "source": [],
    "metadata": {
     "collapsed": false
    }
   }
  }
 },
 "nbformat": 4,
 "nbformat_minor": 0
}