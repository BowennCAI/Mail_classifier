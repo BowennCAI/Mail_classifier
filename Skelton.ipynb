{
 "cells": [
  {
   "cell_type": "code",
   "execution_count": 19,
   "metadata": {
    "collapsed": true,
    "pycharm": {
     "is_executing": false
    }
   },
   "outputs": [],
   "source": [
    "\"\"\"\n",
    "This script can be used as skelton code to read the challenge train and test\n",
    "csvs, to train a trivial model, and write data to the submission file.\n",
    "\"\"\"\n",
    "import pandas as pd\n",
    "import numpy as np\n",
    "from sklearn.preprocessing import OneHotEncoder\n",
    "from sklearn.neighbors import KNeighborsClassifier"
   ]
  },
  {
   "cell_type": "code",
   "execution_count": 12,
   "outputs": [],
   "source": [
    "from sklearn.metrics import accuracy_score\n",
    "\n",
    "## Read csvs\n",
    "train_df = pd.read_csv('train.csv', index_col=0)\n",
    "test_df = pd.read_csv('test.csv', index_col=0)"
   ],
   "metadata": {
    "collapsed": false,
    "pycharm": {
     "name": "#%%\n",
     "is_executing": false
    }
   }
  },
  {
   "cell_type": "code",
   "execution_count": 13,
   "outputs": [],
   "source": [
    "## Handle missing values\n",
    "train_df.fillna('NA', inplace=True)\n",
    "test_df.fillna('NA', inplace=True)"
   ],
   "metadata": {
    "collapsed": false,
    "pycharm": {
     "name": "#%%\n",
     "is_executing": false
    }
   }
  },
  {
   "cell_type": "code",
   "execution_count": 14,
   "outputs": [
    {
     "name": "stdout",
     "text": [
      "                   mail_type\n",
      "Id                          \n",
      "0      multipart/alternative\n",
      "1      multipart/alternative\n",
      "2      multipart/alternative\n",
      "3                  text/html\n",
      "4      multipart/alternative\n",
      "...                      ...\n",
      "10740  multipart/alternative\n",
      "10741  multipart/alternative\n",
      "10742              text/html\n",
      "10743  multipart/alternative\n",
      "10744              text/html\n",
      "\n",
      "[10745 rows x 1 columns]\n"
     ],
     "output_type": "stream"
    }
   ],
   "source": [
    "## Filtering column \"mail_type\"\n",
    "train_x = train_df[['mail_type']]\n",
    "train_y = train_df[['label']]\n",
    "\n",
    "test_x = test_df[['mail_type']]\n",
    "\n",
    "print(test_x)"
   ],
   "metadata": {
    "collapsed": false,
    "pycharm": {
     "name": "#%%\n",
     "is_executing": false
    }
   }
  },
  {
   "cell_type": "code",
   "execution_count": 37,
   "outputs": [
    {
     "name": "stdout",
     "text": [
      "       images\n",
      "Id           \n",
      "0          23\n",
      "1           1\n",
      "2           0\n",
      "3           4\n",
      "4           4\n",
      "...       ...\n",
      "25061       6\n",
      "25062       3\n",
      "25063       4\n",
      "25064       0\n",
      "25065      20\n",
      "\n",
      "[25066 rows x 1 columns]\n",
      "       images\n",
      "Id           \n",
      "0           1\n",
      "1           0\n",
      "2           1\n",
      "3          13\n",
      "4           3\n",
      "...       ...\n",
      "10740       4\n",
      "10741       0\n",
      "10742      20\n",
      "10743       4\n",
      "10744       0\n",
      "\n",
      "[10745 rows x 1 columns]\n"
     ],
     "output_type": "stream"
    }
   ],
   "source": [
    "## Do one hot encoding of categorical feature\n",
    "feat_enc = OneHotEncoder()\n",
    "feat_enc.fit(train_x)\n",
    "train_x_featurized = feat_enc.transform(train_x)\n",
    "test_x_featurized = feat_enc.transform(test_x)\n",
    "\n",
    "# print(test_x_featurized.data)\n",
    "# data = np.array(train_df['images'])\n",
    "# print(type(data))\n",
    "# train_X = np.hstack((train_x_featurized.data, data))\n",
    "# print(train_X)\n",
    "train_X = train_df[['images']]\n",
    "test_X = test_df[['images']]\n"
   ],
   "metadata": {
    "collapsed": false,
    "pycharm": {
     "name": "#%%\n",
     "is_executing": false
    }
   }
  },
  {
   "cell_type": "code",
   "execution_count": 38,
   "outputs": [
    {
     "name": "stderr",
     "text": [
      "/usr/local/lib/python3.7/site-packages/ipykernel_launcher.py:3: DataConversionWarning: A column-vector y was passed when a 1d array was expected. Please change the shape of y to (n_samples, ), for example using ravel().\n",
      "  This is separate from the ipykernel package so we can avoid doing imports until\n"
     ],
     "output_type": "stream"
    }
   ],
   "source": [
    "## Train a simple KNN classifier using featurized data\n",
    "neigh = KNeighborsClassifier(n_neighbors=3)\n",
    "neigh.fit(train_X, train_y)\n",
    "pred_y = neigh.predict(test_X)"
   ],
   "metadata": {
    "collapsed": false,
    "pycharm": {
     "name": "#%%\n",
     "is_executing": false
    }
   }
  },
  {
   "cell_type": "code",
   "execution_count": 39,
   "outputs": [],
   "source": [
    "## Save results to submission file\n",
    "pred_df = pd.DataFrame(pred_y, columns=['label'])\n",
    "pred_df.to_csv(\"knn_sample_submission.csv\", index=True, index_label='Id')\n",
    "\n"
   ],
   "metadata": {
    "collapsed": false,
    "pycharm": {
     "name": "#%%\n",
     "is_executing": false
    }
   }
  }
 ],
 "metadata": {
  "kernelspec": {
   "display_name": "Python 3",
   "language": "python",
   "name": "python3"
  },
  "language_info": {
   "codemirror_mode": {
    "name": "ipython",
    "version": 2
   },
   "file_extension": ".py",
   "mimetype": "text/x-python",
   "name": "python",
   "nbconvert_exporter": "python",
   "pygments_lexer": "ipython2",
   "version": "2.7.6"
  },
  "pycharm": {
   "stem_cell": {
    "cell_type": "raw",
    "source": [],
    "metadata": {
     "collapsed": false
    }
   }
  }
 },
 "nbformat": 4,
 "nbformat_minor": 0
}